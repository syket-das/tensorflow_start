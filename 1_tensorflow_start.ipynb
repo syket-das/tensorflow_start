{
  "nbformat": 4,
  "nbformat_minor": 0,
  "metadata": {
    "colab": {
      "name": "1_tensorflow_start.ipynb",
      "provenance": [],
      "authorship_tag": "ABX9TyNIzkRieSI4+b/HRv0rW2hN",
      "include_colab_link": true
    },
    "kernelspec": {
      "name": "python3",
      "display_name": "Python 3"
    },
    "language_info": {
      "name": "python"
    }
  },
  "cells": [
    {
      "cell_type": "markdown",
      "metadata": {
        "id": "view-in-github",
        "colab_type": "text"
      },
      "source": [
        "<a href=\"https://colab.research.google.com/github/syket-das/tensorflow_start/blob/main/1_tensorflow_start.ipynb\" target=\"_parent\"><img src=\"https://colab.research.google.com/assets/colab-badge.svg\" alt=\"Open In Colab\"/></a>"
      ]
    },
    {
      "cell_type": "code",
      "metadata": {
        "id": "KARTAwKrpPgy"
      },
      "source": [
        "print(\"Hello World\")"
      ],
      "execution_count": null,
      "outputs": []
    },
    {
      "cell_type": "code",
      "metadata": {
        "id": "JzLfPu5TtQ_g"
      },
      "source": [
        "print(\"Google colab\")"
      ],
      "execution_count": null,
      "outputs": []
    }
  ]
}